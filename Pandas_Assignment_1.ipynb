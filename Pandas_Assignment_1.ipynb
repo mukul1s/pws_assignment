{
 "cells": [
  {
   "cell_type": "code",
   "execution_count": null,
   "id": "de821a36-59bc-43e7-bf45-5e6a3f1faac5",
   "metadata": {},
   "outputs": [],
   "source": [
    "import pandas as pd\n",
    "import numpy as np"
   ]
  },
  {
   "cell_type": "markdown",
   "id": "078a8c99-5fa8-4e4f-ba99-6bd6fef6024f",
   "metadata": {},
   "source": [
    "Q1. Create a Pandas Series that contains the following data: 4, 8, 15, 16, 23, and 42. Then, print the series."
   ]
  },
  {
   "cell_type": "code",
   "execution_count": 46,
   "id": "afbcbf51-0afb-4360-a9c4-2504c885a6b7",
   "metadata": {},
   "outputs": [
    {
     "data": {
      "text/plain": [
       "0     4\n",
       "1     8\n",
       "2    15\n",
       "3    16\n",
       "4    23\n",
       "5    42\n",
       "dtype: int32"
      ]
     },
     "execution_count": 46,
     "metadata": {},
     "output_type": "execute_result"
    }
   ],
   "source": [
    "#Ans:\n",
    "data = np.array([4,8,15,16,23,42])\n",
    "sr = pd.Series(data)\n",
    "sr"
   ]
  },
  {
   "cell_type": "code",
   "execution_count": null,
   "id": "0bceb522-b0f2-4504-a5b0-b17f91a9581d",
   "metadata": {},
   "outputs": [],
   "source": []
  },
  {
   "cell_type": "markdown",
   "id": "3fad373d-816d-47cd-9b92-6dd68847d2fa",
   "metadata": {},
   "source": [
    "Q2. Create a variable of list type containing 10 elements in it, and apply pandas.Series function on the\n",
    "variable print it."
   ]
  },
  {
   "cell_type": "code",
   "execution_count": 47,
   "id": "b78636dc-8089-4f4e-97d8-dbd12c57c949",
   "metadata": {},
   "outputs": [
    {
     "data": {
      "text/plain": [
       "0    0\n",
       "1    1\n",
       "2    2\n",
       "3    3\n",
       "4    4\n",
       "5    5\n",
       "6    6\n",
       "7    7\n",
       "8    8\n",
       "9    9\n",
       "dtype: int64"
      ]
     },
     "execution_count": 47,
     "metadata": {},
     "output_type": "execute_result"
    }
   ],
   "source": [
    "#Ans\n",
    "lst=[*range(10)]\n",
    "sr1=pd.Series(lst)\n",
    "sr1"
   ]
  },
  {
   "cell_type": "code",
   "execution_count": null,
   "id": "71286b42-b794-4036-91e7-484fe4faeb2d",
   "metadata": {},
   "outputs": [],
   "source": []
  },
  {
   "attachments": {
    "7eede57e-b329-4e1d-a653-9e2a23643c2e.png": {
     "image/png": "[encoded data removed]"
    }
   },
   "cell_type": "markdown",
   "id": "6bd1a335-626e-46c8-9975-47aa1eb9c0f6",
   "metadata": {},
   "source": [
    "Q3. Create a Pandas DataFrame that contains the following data:\n",
    "\n",
    "![image.png](attachment:7eede57e-b329-4e1d-a653-9e2a23643c2e.png)"
   ]
  },
  {
   "cell_type": "code",
   "execution_count": 48,
   "id": "0bff25ff-96ea-4b59-ac7b-f4c01873be5e",
   "metadata": {},
   "outputs": [
    {
     "data": {
      "text/html": [
       "<div>\n",
       "<style scoped>\n",
       "    .dataframe tbody tr th:only-of-type {\n",
       "        vertical-align: middle;\n",
       "    }\n",
       "\n",
       "    .dataframe tbody tr th {\n",
       "        vertical-align: top;\n",
       "    }\n",
       "\n",
       "    .dataframe thead th {\n",
       "        text-align: right;\n",
       "    }\n",
       "</style>\n",
       "<table border=\"1\" class=\"dataframe\">\n",
       "  <thead>\n",
       "    <tr style=\"text-align: right;\">\n",
       "      <th></th>\n",
       "      <th>Name</th>\n",
       "      <th>Age</th>\n",
       "      <th>Gender</th>\n",
       "    </tr>\n",
       "  </thead>\n",
       "  <tbody>\n",
       "    <tr>\n",
       "      <th>0</th>\n",
       "      <td>Alice</td>\n",
       "      <td>25</td>\n",
       "      <td>Female</td>\n",
       "    </tr>\n",
       "    <tr>\n",
       "      <th>1</th>\n",
       "      <td>Bob</td>\n",
       "      <td>30</td>\n",
       "      <td>Male</td>\n",
       "    </tr>\n",
       "    <tr>\n",
       "      <th>2</th>\n",
       "      <td>Claire</td>\n",
       "      <td>27</td>\n",
       "      <td>Female</td>\n",
       "    </tr>\n",
       "  </tbody>\n",
       "</table>\n",
       "</div>"
      ],
      "text/plain": [
       "     Name  Age  Gender\n",
       "0   Alice   25  Female\n",
       "1     Bob   30    Male\n",
       "2  Claire   27  Female"
      ]
     },
     "execution_count": 48,
     "metadata": {},
     "output_type": "execute_result"
    }
   ],
   "source": [
    "#Ans:\n",
    "dict={'Name':['Alice','Bob','Claire'], 'Age':[25,30,27], 'Gender':['Female','Male','Female']}\n",
    "df=pd.DataFrame(dict)\n",
    "df"
   ]
  },
  {
   "cell_type": "code",
   "execution_count": null,
   "id": "2c67fb2f-8bad-426c-bd5f-49309c6d856d",
   "metadata": {},
   "outputs": [],
   "source": []
  },
  {
   "cell_type": "markdown",
   "id": "ef49b945-ad92-4e10-91e2-9b253f2e505e",
   "metadata": {},
   "source": [
    "Q4. What is ‘DataFrame’ in pandas and how is it different from pandas.series? Explain with an example."
   ]
  },
  {
   "cell_type": "markdown",
   "id": "ea0072b4-9972-48ba-8ccc-be70efc1571d",
   "metadata": {},
   "source": [
    "#Ans\n",
    "One of the main differences between DataFrame and Series is that a DataFrame can have multiple columns, while a Series can only have one. This means that a DataFrame can store more complex and heterogeneous data, while a Series can store more simple and homogeneous data.\n",
    "Example: In Q1 above, it is series and in Q3 above it is dataframe"
   ]
  },
  {
   "cell_type": "code",
   "execution_count": null,
   "id": "3909c73e-ff10-4052-a060-730c3b4cdc33",
   "metadata": {},
   "outputs": [],
   "source": []
  },
  {
   "cell_type": "markdown",
   "id": "94a79f4a-6529-42ae-9c79-ccd72d76acb5",
   "metadata": {},
   "source": [
    "Q5. What are some common functions you can use to manipulate data in a Pandas DataFrame? Can\n",
    "you give an example of when you might use one of these functions?"
   ]
  },
  {
   "cell_type": "markdown",
   "id": "116c561d-b8bb-4f82-a43c-645cdc7235a9",
   "metadata": {},
   "source": [
    "#Ans:\n",
    "Here are some of the most common Pandas data manipulation tasks: Data selection: Pandas provides a variety of functions for selecting data, such as head(), tail(), iloc(), and loc(). These functions allow you to select specific rows, columns, or subsets of data from a DataFrame."
   ]
  },
  {
   "cell_type": "code",
   "execution_count": null,
   "id": "b418268a-12e2-40ca-ad1a-4e4889f80a4a",
   "metadata": {},
   "outputs": [],
   "source": []
  },
  {
   "cell_type": "markdown",
   "id": "0b89f85f-1a55-41f3-941d-295f5ec47e45",
   "metadata": {},
   "source": [
    "Q6. Which of the following is mutable in nature Series, DataFrame, Panel?"
   ]
  },
  {
   "cell_type": "markdown",
   "id": "6f78e4e6-5f85-4f55-80ae-b501ce97fdd1",
   "metadata": {},
   "source": [
    "#Ans:\n",
    "All Pandas data structures are value mutable (can be changed) and except Series all are size mutable. Series is size immutable. Note − DataFrame is widely used and one of the most important data structures. Panel is used much less."
   ]
  },
  {
   "cell_type": "code",
   "execution_count": null,
   "id": "13db819b-81f5-4798-8867-0a95ea227180",
   "metadata": {},
   "outputs": [],
   "source": []
  },
  {
   "cell_type": "markdown",
   "id": "29fb391e-9be5-4aeb-a43d-1fc692a145ee",
   "metadata": {},
   "source": [
    "Q7. Create a DataFrame using multiple Series. Explain with an example."
   ]
  },
  {
   "cell_type": "code",
   "execution_count": 45,
   "id": "e2600773-ec28-44ed-864e-52a4b9bd69d1",
   "metadata": {},
   "outputs": [
    {
     "data": {
      "text/html": [
       "<div>\n",
       "<style scoped>\n",
       "    .dataframe tbody tr th:only-of-type {\n",
       "        vertical-align: middle;\n",
       "    }\n",
       "\n",
       "    .dataframe tbody tr th {\n",
       "        vertical-align: top;\n",
       "    }\n",
       "\n",
       "    .dataframe thead th {\n",
       "        text-align: right;\n",
       "    }\n",
       "</style>\n",
       "<table border=\"1\" class=\"dataframe\">\n",
       "  <thead>\n",
       "    <tr style=\"text-align: right;\">\n",
       "      <th></th>\n",
       "      <th>Author</th>\n",
       "      <th>Article</th>\n",
       "    </tr>\n",
       "  </thead>\n",
       "  <tbody>\n",
       "    <tr>\n",
       "      <th>0</th>\n",
       "      <td>Jitender</td>\n",
       "      <td>210</td>\n",
       "    </tr>\n",
       "    <tr>\n",
       "      <th>1</th>\n",
       "      <td>Purnima</td>\n",
       "      <td>211</td>\n",
       "    </tr>\n",
       "    <tr>\n",
       "      <th>2</th>\n",
       "      <td>Arpit</td>\n",
       "      <td>114</td>\n",
       "    </tr>\n",
       "    <tr>\n",
       "      <th>3</th>\n",
       "      <td>Jyoti</td>\n",
       "      <td>178</td>\n",
       "    </tr>\n",
       "  </tbody>\n",
       "</table>\n",
       "</div>"
      ],
      "text/plain": [
       "     Author  Article\n",
       "0  Jitender      210\n",
       "1   Purnima      211\n",
       "2     Arpit      114\n",
       "3     Jyoti      178"
      ]
     },
     "execution_count": 45,
     "metadata": {},
     "output_type": "execute_result"
    }
   ],
   "source": [
    "#Ans\n",
    "author = ['Jitender', 'Purnima',\n",
    "          'Arpit', 'Jyoti']\n",
    "article = [210, 211, 114, 178]\n",
    " \n",
    "auth_series = pd.Series(author)\n",
    "article_series = pd.Series(article)\n",
    " \n",
    "frame = {'Author': auth_series,\n",
    "         'Article': article_series}\n",
    " \n",
    "result = pd.DataFrame(frame)\n",
    "result"
   ]
  },
  {
   "cell_type": "code",
   "execution_count": null,
   "id": "9356398d-28ae-40fb-b949-48af4c163747",
   "metadata": {},
   "outputs": [],
   "source": []
  }
 ],
 "metadata": {
  "kernelspec": {
   "display_name": "Python 3 (ipykernel)",
   "language": "python",
   "name": "python3"
  },
  "language_info": {
   "codemirror_mode": {
    "name": "ipython",
    "version": 3
   },
   "file_extension": ".py",
   "mimetype": "text/x-python",
   "name": "python",
   "nbconvert_exporter": "python",
   "pygments_lexer": "ipython3",
   "version": "3.11.7"
  }
 },
 "nbformat": 4,
 "nbformat_minor": 5
}
