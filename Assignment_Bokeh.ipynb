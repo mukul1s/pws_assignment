{
 "cells": [
  {
   "cell_type": "markdown",
   "metadata": {},
   "source": [
    "# ASSIGNMENT BOKEH"
   ]
  },
  {
   "cell_type": "markdown",
   "metadata": {},
   "source": [
    "Q1) How can you create a Bokeh plot using Python code?"
   ]
  },
  {
   "cell_type": "code",
   "execution_count": null,
   "metadata": {},
   "outputs": [],
   "source": [
    "Ans:\n",
    "#Steps involved to create a Bokeh plot using Python code is as given under. Here steps are shown using iris \n",
    "#dataset and for plotting a scatterplot\n",
    "!pip install bokeh\n",
    "import bokeh.io\n",
    "import bokeh.plotting\n",
    "bokeh.io.output_notebook()\n",
    "from bokeh.plotting import figure, output_file, show\n",
    "from bokeh.sampledata.iris import flowers\n",
    "output_file('test.html')\n",
    "p=figure(title='test flower')\n",
    "p.xaxis.axis_label = 'petal_length'\n",
    "p.yaxis.axis_label = 'petal_width'\n",
    "p.circle(flowers['petal_length'],flowers['petal_width'],size = 20,fill_color='red',legend_label='test')\n",
    "show(p)"
   ]
  },
  {
   "cell_type": "code",
   "execution_count": null,
   "metadata": {},
   "outputs": [],
   "source": []
  },
  {
   "cell_type": "markdown",
   "metadata": {},
   "source": [
    "Q2) What are glyphs in Bokeh, and how can you add them to a Bokeh plot? Explain with an example."
   ]
  },
  {
   "cell_type": "markdown",
   "metadata": {},
   "source": [
    "#Ans:\n",
    "Any plot is usually made up of one or many geometrical shapes such as line, circle, rectangle, etc. These shapes have visual information about the corresponding set of data. In Bokeh terminology, these geometrical shapes are called gylphs. Bokeh plots constructed using bokeh.plotting interface use a default set of tools and styles. However, it is possible to customize the styles using available plotting tools.\n",
    "Example is shown velow:"
   ]
  },
  {
   "cell_type": "code",
   "execution_count": 4,
   "metadata": {},
   "outputs": [
    {
     "data": {
      "text/html": [
       "\n",
       "\n",
       "\n",
       "\n",
       "\n",
       "\n",
       "  <div class=\"bk-root\" id=\"23a67cd0-7448-4284-91c6-8d3296457224\" data-root-id=\"1385\"></div>\n"
      ]
     },
     "metadata": {},
     "output_type": "display_data"
    },
    {
     "data": {
      "application/javascript": [
       "(function(root) {\n",
       "  function embed_document(root) {\n",
       "    \n",
       "  var docs_json = {\"29206a60-82c6-4b9b-8f56-ae904c71cd74\":{\"roots\":{\"references\":[{\"attributes\":{\"below\":[{\"id\":\"1396\"}],\"center\":[{\"id\":\"1399\"},{\"id\":\"1403\"}],\"left\":[{\"id\":\"1400\"}],\"renderers\":[{\"id\":\"1421\"}],\"title\":{\"id\":\"1386\"},\"toolbar\":{\"id\":\"1411\"},\"x_range\":{\"id\":\"1388\"},\"x_scale\":{\"id\":\"1392\"},\"y_range\":{\"id\":\"1390\"},\"y_scale\":{\"id\":\"1394\"}},\"id\":\"1385\",\"subtype\":\"Figure\",\"type\":\"Plot\"},{\"attributes\":{},\"id\":\"1408\",\"type\":\"ResetTool\"},{\"attributes\":{\"overlay\":{\"id\":\"1410\"}},\"id\":\"1406\",\"type\":\"BoxZoomTool\"},{\"attributes\":{},\"id\":\"1407\",\"type\":\"SaveTool\"},{\"attributes\":{\"line_alpha\":0.1,\"line_color\":\"#1f77b4\",\"x\":{\"field\":\"x\"},\"y\":{\"field\":\"y\"}},\"id\":\"1420\",\"type\":\"Line\"},{\"attributes\":{},\"id\":\"1440\",\"type\":\"BasicTickFormatter\"},{\"attributes\":{\"source\":{\"id\":\"1418\"}},\"id\":\"1422\",\"type\":\"CDSView\"},{\"attributes\":{\"line_color\":\"#1f77b4\",\"x\":{\"field\":\"x\"},\"y\":{\"field\":\"y\"}},\"id\":\"1419\",\"type\":\"Line\"},{\"attributes\":{\"text\":\"Line Plot Example\"},\"id\":\"1386\",\"type\":\"Title\"},{\"attributes\":{},\"id\":\"1405\",\"type\":\"WheelZoomTool\"},{\"attributes\":{\"data\":{\"x\":[1,2,3,4,5],\"y\":[2,4,6,8,10]},\"selected\":{\"id\":\"1445\"},\"selection_policy\":{\"id\":\"1444\"}},\"id\":\"1418\",\"type\":\"ColumnDataSource\"},{\"attributes\":{},\"id\":\"1390\",\"type\":\"DataRange1d\"},{\"attributes\":{},\"id\":\"1388\",\"type\":\"DataRange1d\"},{\"attributes\":{},\"id\":\"1397\",\"type\":\"BasicTicker\"},{\"attributes\":{\"axis_label\":\"x\",\"formatter\":{\"id\":\"1440\"},\"ticker\":{\"id\":\"1397\"}},\"id\":\"1396\",\"type\":\"LinearAxis\"},{\"attributes\":{\"bottom_units\":\"screen\",\"fill_alpha\":0.5,\"fill_color\":\"lightgrey\",\"left_units\":\"screen\",\"level\":\"overlay\",\"line_alpha\":1.0,\"line_color\":\"black\",\"line_dash\":[4,4],\"line_width\":2,\"right_units\":\"screen\",\"top_units\":\"screen\"},\"id\":\"1410\",\"type\":\"BoxAnnotation\"},{\"attributes\":{\"data_source\":{\"id\":\"1418\"},\"glyph\":{\"id\":\"1419\"},\"hover_glyph\":null,\"muted_glyph\":null,\"nonselection_glyph\":{\"id\":\"1420\"},\"selection_glyph\":null,\"view\":{\"id\":\"1422\"}},\"id\":\"1421\",\"type\":\"GlyphRenderer\"},{\"attributes\":{},\"id\":\"1409\",\"type\":\"HelpTool\"},{\"attributes\":{},\"id\":\"1394\",\"type\":\"LinearScale\"},{\"attributes\":{},\"id\":\"1392\",\"type\":\"LinearScale\"},{\"attributes\":{},\"id\":\"1442\",\"type\":\"BasicTickFormatter\"},{\"attributes\":{\"axis\":{\"id\":\"1396\"},\"ticker\":null},\"id\":\"1399\",\"type\":\"Grid\"},{\"attributes\":{\"active_drag\":\"auto\",\"active_inspect\":\"auto\",\"active_multi\":null,\"active_scroll\":\"auto\",\"active_tap\":\"auto\",\"tools\":[{\"id\":\"1404\"},{\"id\":\"1405\"},{\"id\":\"1406\"},{\"id\":\"1407\"},{\"id\":\"1408\"},{\"id\":\"1409\"}]},\"id\":\"1411\",\"type\":\"Toolbar\"},{\"attributes\":{},\"id\":\"1404\",\"type\":\"PanTool\"},{\"attributes\":{\"axis_label\":\"y\",\"formatter\":{\"id\":\"1442\"},\"ticker\":{\"id\":\"1401\"}},\"id\":\"1400\",\"type\":\"LinearAxis\"},{\"attributes\":{},\"id\":\"1444\",\"type\":\"UnionRenderers\"},{\"attributes\":{\"axis\":{\"id\":\"1400\"},\"dimension\":1,\"ticker\":null},\"id\":\"1403\",\"type\":\"Grid\"},{\"attributes\":{},\"id\":\"1401\",\"type\":\"BasicTicker\"},{\"attributes\":{},\"id\":\"1445\",\"type\":\"Selection\"}],\"root_ids\":[\"1385\"]},\"title\":\"Bokeh Application\",\"version\":\"2.2.3\"}};\n",
       "  var render_items = [{\"docid\":\"29206a60-82c6-4b9b-8f56-ae904c71cd74\",\"root_ids\":[\"1385\"],\"roots\":{\"1385\":\"23a67cd0-7448-4284-91c6-8d3296457224\"}}];\n",
       "  root.Bokeh.embed.embed_items_notebook(docs_json, render_items);\n",
       "\n",
       "  }\n",
       "  if (root.Bokeh !== undefined) {\n",
       "    embed_document(root);\n",
       "  } else {\n",
       "    var attempts = 0;\n",
       "    var timer = setInterval(function(root) {\n",
       "      if (root.Bokeh !== undefined) {\n",
       "        clearInterval(timer);\n",
       "        embed_document(root);\n",
       "      } else {\n",
       "        attempts++;\n",
       "        if (attempts > 100) {\n",
       "          clearInterval(timer);\n",
       "          console.log(\"Bokeh: ERROR: Unable to run BokehJS code because BokehJS library is missing\");\n",
       "        }\n",
       "      }\n",
       "    }, 10, root)\n",
       "  }\n",
       "})(window);"
      ],
      "application/vnd.bokehjs_exec.v0+json": ""
     },
     "metadata": {
      "application/vnd.bokehjs_exec.v0+json": {
       "id": "1385"
      }
     },
     "output_type": "display_data"
    }
   ],
   "source": [
    "from bokeh.plotting import figure, output_file, show\n",
    "x = [1,2,3,4,5]\n",
    "y = [2,4,6,8,10]\n",
    "output_file('line.html')\n",
    "fig = figure(title = 'Line Plot Example', x_axis_label = 'x', y_axis_label = 'y')\n",
    "fig.line(x,y)\n",
    "show(fig)"
   ]
  },
  {
   "cell_type": "code",
   "execution_count": null,
   "metadata": {},
   "outputs": [],
   "source": []
  },
  {
   "cell_type": "markdown",
   "metadata": {},
   "source": [
    "Q3) How can you customize the appearance of a Bokeh plot, including the axes, title, and legend?"
   ]
  },
  {
   "cell_type": "markdown",
   "metadata": {},
   "source": [
    "#Ans: Apperance of Bokeh plot can be customized using commands in python. Example is shown below:"
   ]
  },
  {
   "cell_type": "code",
   "execution_count": 6,
   "metadata": {},
   "outputs": [
    {
     "data": {
      "text/html": [
       "\n",
       "\n",
       "\n",
       "\n",
       "\n",
       "\n",
       "  <div class=\"bk-root\" id=\"53e6b13c-33ea-413b-a732-05463dcf7f9b\" data-root-id=\"1835\"></div>\n"
      ]
     },
     "metadata": {},
     "output_type": "display_data"
    },
    {
     "data": {
      "application/javascript": [
       "(function(root) {\n",
       "  function embed_document(root) {\n",
       "    \n",
       "  var docs_json = {\"f3a7bca3-d458-4ea0-9388-12214f1b7900\":{\"roots\":{\"references\":[{\"attributes\":{\"below\":[{\"id\":\"1846\"}],\"center\":[{\"id\":\"1849\"},{\"id\":\"1853\"},{\"id\":\"1881\"}],\"left\":[{\"id\":\"1850\"}],\"renderers\":[{\"id\":\"1871\"},{\"id\":\"1886\"}],\"title\":{\"id\":\"1836\"},\"toolbar\":{\"id\":\"1861\"},\"x_range\":{\"id\":\"1838\"},\"x_scale\":{\"id\":\"1842\"},\"y_range\":{\"id\":\"1840\"},\"y_scale\":{\"id\":\"1844\"}},\"id\":\"1835\",\"subtype\":\"Figure\",\"type\":\"Plot\"},{\"attributes\":{},\"id\":\"1855\",\"type\":\"WheelZoomTool\"},{\"attributes\":{\"formatter\":{\"id\":\"1876\"},\"ticker\":{\"id\":\"1851\"}},\"id\":\"1850\",\"type\":\"LinearAxis\"},{\"attributes\":{},\"id\":\"1874\",\"type\":\"BasicTickFormatter\"},{\"attributes\":{\"axis\":{\"id\":\"1850\"},\"dimension\":1,\"ticker\":null},\"id\":\"1853\",\"type\":\"Grid\"},{\"attributes\":{},\"id\":\"1842\",\"type\":\"LinearScale\"},{\"attributes\":{\"axis\":{\"id\":\"1846\"},\"ticker\":null},\"id\":\"1849\",\"type\":\"Grid\"},{\"attributes\":{\"active_drag\":\"auto\",\"active_inspect\":\"auto\",\"active_multi\":null,\"active_scroll\":\"auto\",\"active_tap\":\"auto\",\"tools\":[{\"id\":\"1854\"},{\"id\":\"1855\"},{\"id\":\"1856\"},{\"id\":\"1857\"},{\"id\":\"1858\"},{\"id\":\"1859\"}]},\"id\":\"1861\",\"type\":\"Toolbar\"},{\"attributes\":{\"bottom_units\":\"screen\",\"fill_alpha\":0.5,\"fill_color\":\"lightgrey\",\"left_units\":\"screen\",\"level\":\"overlay\",\"line_alpha\":1.0,\"line_color\":\"black\",\"line_dash\":[4,4],\"line_width\":2,\"right_units\":\"screen\",\"top_units\":\"screen\"},\"id\":\"1860\",\"type\":\"BoxAnnotation\"},{\"attributes\":{},\"id\":\"1876\",\"type\":\"BasicTickFormatter\"},{\"attributes\":{},\"id\":\"1895\",\"type\":\"UnionRenderers\"},{\"attributes\":{\"data\":{\"x\":[1,2,3,4,5],\"y\":[3,4,5,6,7]},\"selected\":{\"id\":\"1896\"},\"selection_policy\":{\"id\":\"1895\"}},\"id\":\"1883\",\"type\":\"ColumnDataSource\"},{\"attributes\":{},\"id\":\"1896\",\"type\":\"Selection\"},{\"attributes\":{},\"id\":\"1878\",\"type\":\"UnionRenderers\"},{\"attributes\":{},\"id\":\"1879\",\"type\":\"Selection\"},{\"attributes\":{\"overlay\":{\"id\":\"1860\"}},\"id\":\"1856\",\"type\":\"BoxZoomTool\"},{\"attributes\":{\"data_source\":{\"id\":\"1868\"},\"glyph\":{\"id\":\"1869\"},\"hover_glyph\":null,\"muted_glyph\":null,\"nonselection_glyph\":{\"id\":\"1870\"},\"selection_glyph\":null,\"view\":{\"id\":\"1872\"}},\"id\":\"1871\",\"type\":\"GlyphRenderer\"},{\"attributes\":{\"line_alpha\":0.1,\"line_color\":\"blue\",\"line_width\":2,\"x\":{\"field\":\"x\"},\"y\":{\"field\":\"y\"}},\"id\":\"1870\",\"type\":\"Line\"},{\"attributes\":{},\"id\":\"1858\",\"type\":\"ResetTool\"},{\"attributes\":{},\"id\":\"1838\",\"type\":\"DataRange1d\"},{\"attributes\":{\"source\":{\"id\":\"1868\"}},\"id\":\"1872\",\"type\":\"CDSView\"},{\"attributes\":{\"background_fill_alpha\":0.3,\"background_fill_color\":\"orange\",\"border_line_color\":\"pink\",\"border_line_width\":15,\"items\":[{\"id\":\"1882\"},{\"id\":\"1898\"}],\"label_text_color\":\"red\",\"label_text_font\":\"times\",\"label_text_font_style\":\"italic\",\"title\":\"Observations\"},\"id\":\"1881\",\"type\":\"Legend\"},{\"attributes\":{\"label\":{\"value\":\"Arrays .\"},\"renderers\":[{\"id\":\"1871\"}]},\"id\":\"1882\",\"type\":\"LegendItem\"},{\"attributes\":{\"data\":{\"x\":[1,2,3,4,5],\"y\":[2,4,6,8,10]},\"selected\":{\"id\":\"1879\"},\"selection_policy\":{\"id\":\"1878\"}},\"id\":\"1868\",\"type\":\"ColumnDataSource\"},{\"attributes\":{},\"id\":\"1844\",\"type\":\"LinearScale\"},{\"attributes\":{},\"id\":\"1857\",\"type\":\"SaveTool\"},{\"attributes\":{\"text\":\" Legend Customization\"},\"id\":\"1836\",\"type\":\"Title\"},{\"attributes\":{},\"id\":\"1859\",\"type\":\"HelpTool\"},{\"attributes\":{},\"id\":\"1847\",\"type\":\"BasicTicker\"},{\"attributes\":{},\"id\":\"1851\",\"type\":\"BasicTicker\"},{\"attributes\":{\"source\":{\"id\":\"1883\"}},\"id\":\"1887\",\"type\":\"CDSView\"},{\"attributes\":{\"data_source\":{\"id\":\"1883\"},\"glyph\":{\"id\":\"1884\"},\"hover_glyph\":null,\"muted_glyph\":null,\"nonselection_glyph\":{\"id\":\"1885\"},\"selection_glyph\":null,\"view\":{\"id\":\"1887\"}},\"id\":\"1886\",\"type\":\"GlyphRenderer\"},{\"attributes\":{\"line_color\":\"blue\",\"line_width\":2,\"x\":{\"field\":\"x\"},\"y\":{\"field\":\"y\"}},\"id\":\"1869\",\"type\":\"Line\"},{\"attributes\":{\"fill_alpha\":{\"value\":0.4},\"fill_color\":{\"value\":\"black\"},\"line_color\":{\"value\":\"blue\"},\"size\":{\"units\":\"screen\",\"value\":30},\"x\":{\"field\":\"x\"},\"y\":{\"field\":\"y\"}},\"id\":\"1884\",\"type\":\"Circle\"},{\"attributes\":{},\"id\":\"1840\",\"type\":\"DataRange1d\"},{\"attributes\":{\"label\":{\"value\":\"List\"},\"renderers\":[{\"id\":\"1886\"}]},\"id\":\"1898\",\"type\":\"LegendItem\"},{\"attributes\":{\"formatter\":{\"id\":\"1874\"},\"ticker\":{\"id\":\"1847\"}},\"id\":\"1846\",\"type\":\"LinearAxis\"},{\"attributes\":{\"fill_alpha\":{\"value\":0.1},\"fill_color\":{\"value\":\"black\"},\"line_alpha\":{\"value\":0.1},\"line_color\":{\"value\":\"blue\"},\"size\":{\"units\":\"screen\",\"value\":30},\"x\":{\"field\":\"x\"},\"y\":{\"field\":\"y\"}},\"id\":\"1885\",\"type\":\"Circle\"},{\"attributes\":{},\"id\":\"1854\",\"type\":\"PanTool\"}],\"root_ids\":[\"1835\"]},\"title\":\"Bokeh Application\",\"version\":\"2.2.3\"}};\n",
       "  var render_items = [{\"docid\":\"f3a7bca3-d458-4ea0-9388-12214f1b7900\",\"root_ids\":[\"1835\"],\"roots\":{\"1835\":\"53e6b13c-33ea-413b-a732-05463dcf7f9b\"}}];\n",
       "  root.Bokeh.embed.embed_items_notebook(docs_json, render_items);\n",
       "\n",
       "  }\n",
       "  if (root.Bokeh !== undefined) {\n",
       "    embed_document(root);\n",
       "  } else {\n",
       "    var attempts = 0;\n",
       "    var timer = setInterval(function(root) {\n",
       "      if (root.Bokeh !== undefined) {\n",
       "        clearInterval(timer);\n",
       "        embed_document(root);\n",
       "      } else {\n",
       "        attempts++;\n",
       "        if (attempts > 100) {\n",
       "          clearInterval(timer);\n",
       "          console.log(\"Bokeh: ERROR: Unable to run BokehJS code because BokehJS library is missing\");\n",
       "        }\n",
       "      }\n",
       "    }, 10, root)\n",
       "  }\n",
       "})(window);"
      ],
      "application/vnd.bokehjs_exec.v0+json": ""
     },
     "metadata": {
      "application/vnd.bokehjs_exec.v0+json": {
       "id": "1835"
      }
     },
     "output_type": "display_data"
    }
   ],
   "source": [
    "\n",
    "# import module\n",
    "from bokeh.plotting import figure, show\n",
    " \n",
    "# create data\n",
    "currentList = [1, 2, 3, 4, 5]\n",
    "List1 = [i*2 for i in currentList]\n",
    "List2 = [i+2 for i in currentList]\n",
    " \n",
    "# plot data\n",
    "plots = figure(title=\" Legend Customization\")\n",
    " \n",
    "line = plots.line(\n",
    "    currentList,\n",
    "    List1,\n",
    "    legend_label=\"Arrays .\",\n",
    "    line_color=\"blue\",\n",
    "    line_width=2\n",
    ")\n",
    " \n",
    "circle = plots.circle(\n",
    "    currentList,\n",
    "    List2,\n",
    "    legend_label=\"List\",\n",
    "    fill_color=\"black\",\n",
    "    fill_alpha=0.4,\n",
    "    line_color=\"blue\",\n",
    "    size=30,\n",
    ")\n",
    " \n",
    "# display legend in top right corner\n",
    "plots.legend.location = \"top_right\"\n",
    " \n",
    "# give title to legend\n",
    "plots.legend.title = \"Observations\"\n",
    " \n",
    "# customize legend appearance\n",
    "plots.legend.label_text_font = \"times\"\n",
    "plots.legend.label_text_font_style = \"italic\"\n",
    "plots.legend.label_text_color = \"red\"\n",
    " \n",
    "# customize border and background of legend\n",
    "plots.legend.border_line_width = 15\n",
    "plots.legend.border_line_color = \"pink\"\n",
    "plots.legend.border_line_alpha = 0.5\n",
    "plots.legend.background_fill_color = \"orange\"\n",
    "plots.legend.background_fill_alpha = 0.3\n",
    " \n",
    "# display plot\n",
    "show(plots)\n"
   ]
  },
  {
   "cell_type": "code",
   "execution_count": null,
   "metadata": {},
   "outputs": [],
   "source": []
  },
  {
   "cell_type": "markdown",
   "metadata": {},
   "source": [
    "Q4) What is a Bokeh server, and how can you use it to create interactive plots that can be updated in\n",
    "real time?"
   ]
  },
  {
   "cell_type": "markdown",
   "metadata": {},
   "source": [
    "Ans:The purpose of the Bokeh server is to make it easy for Python users to create interactive web applications that can connect front-end UI events to real, running Python code. The architecture of Bokeh is such that high-level “model objects” (representing things like plots, ranges, axes, glyphs, etc.) are created in Python and then converted to a JSON format that is consumed by the client library, BokehJS. By itself, this flexible and decoupled design offers advantages. For instance, it is easy to have other languages drive the exact same Bokeh plots and visualizations in the browser. However, if it were possible to keep the “model objects” in Python and in the browser in sync with one another, more additional and powerful possibilities immediately open up: respond to UI and tool events generated in a browser with computations or queries using the full power of Python AND automatically push server-side updates to the UI (i.e. widgets or plots in a browser) use periodic, timeout, and asynchronous callbacks to drive streaming updates\n",
    "\n",
    "When the controls are manipulated, their new values are automatically synced in the Bokeh server. Callbacks are triggered that also update the data for the plot in the server. These changes are automatically synced back to the browser, and the plot updates."
   ]
  },
  {
   "cell_type": "code",
   "execution_count": null,
   "metadata": {},
   "outputs": [],
   "source": []
  },
  {
   "cell_type": "markdown",
   "metadata": {},
   "source": [
    "Q5) How can you embed a Bokeh plot into a web page or dashboard using Flask or Django?"
   ]
  },
  {
   "cell_type": "markdown",
   "metadata": {},
   "source": [
    "#Ans:\n",
    "Bokeh plot can be embeded using Flask or Django. Steps involved are shown by following example:"
   ]
  },
  {
   "cell_type": "code",
   "execution_count": null,
   "metadata": {},
   "outputs": [],
   "source": [
    "!pip install flask"
   ]
  },
  {
   "cell_type": "code",
   "execution_count": null,
   "metadata": {},
   "outputs": [],
   "source": [
    "!pip install bokeh"
   ]
  },
  {
   "cell_type": "code",
   "execution_count": null,
   "metadata": {},
   "outputs": [],
   "source": [
    "\n",
    "# Importing required functions \n",
    "import random \n",
    "  \n",
    "from flask import Flask, render_template \n",
    "from bokeh.embed import components \n",
    "from bokeh.plotting import figure \n",
    "  \n",
    "# Flask constructor \n",
    "app = Flask(__name__) \n",
    "  \n",
    "# Root endpoint \n",
    "@app.route('/') \n",
    "def homepage(): \n",
    "  \n",
    "    # First Chart - Scatter Plot \n",
    "    p1 = figure(height=350, sizing_mode=\"stretch_width\") \n",
    "    p1.circle( \n",
    "        [i for i in range(10)], \n",
    "        [random.randint(1, 50) for j in range(10)], \n",
    "        size=20, \n",
    "        color=\"navy\", \n",
    "        alpha=0.5\n",
    "    ) \n",
    "  \n",
    "    # Second Chart - Line Plot \n",
    "    language = ['Python', 'JavaScript', 'C++', 'C#', 'Java', 'Golang'] \n",
    "    popularity = [85, 91, 63, 58, 80, 77] \n",
    "  \n",
    "    p2 = figure( \n",
    "        x_range=language, \n",
    "        height=350, \n",
    "        title=\"Popularity\", \n",
    "    ) \n",
    "    p2.vbar(x=language, top=popularity, width=0.5) \n",
    "    p2.xgrid.grid_line_color = None\n",
    "    p2.y_range.start = 0\n",
    "  \n",
    "    # Third Chart - Line Plot \n",
    "    p3 = figure(height=350, sizing_mode=\"stretch_width\") \n",
    "    p3.line( \n",
    "        [i for i in range(10)], \n",
    "        [random.randint(1, 50) for j in range(10)], \n",
    "        line_width=2, \n",
    "        color=\"olive\", \n",
    "        alpha=0.5\n",
    "    ) \n",
    "  \n",
    "    script1, div1 = components(p1) \n",
    "    script2, div2 = components(p2) \n",
    "    script3, div3 = components(p3) \n",
    "  \n",
    "    # Return all the charts to the HTML template \n",
    "    return render_template( \n",
    "        template_name_or_list='charts.html', \n",
    "        script=[script1, script2, script3], \n",
    "        div=[div1, div2, div3], \n",
    "    ) \n",
    "  \n",
    "  \n",
    "# Main Driver Function \n",
    "if __name__ == '__main__': \n",
    "    # Run the application on the local development server \n",
    "    app.run() \n"
   ]
  },
  {
   "cell_type": "code",
   "execution_count": null,
   "metadata": {},
   "outputs": [],
   "source": []
  }
 ],
 "metadata": {
  "kernelspec": {
   "display_name": "Python 3",
   "language": "python",
   "name": "python3"
  },
  "language_info": {
   "codemirror_mode": {
    "name": "ipython",
    "version": 3
   },
   "file_extension": ".py",
   "mimetype": "text/x-python",
   "name": "python",
   "nbconvert_exporter": "python",
   "pygments_lexer": "ipython3",
   "version": "3.8.5"
  }
 },
 "nbformat": 4,
 "nbformat_minor": 4
}
