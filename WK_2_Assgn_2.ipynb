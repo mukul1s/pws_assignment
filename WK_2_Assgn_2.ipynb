{
 "cells": [
  {
   "cell_type": "markdown",
   "metadata": {},
   "source": [
    "Q1. How do you comment code in Python? What are the different types of comments?"
   ]
  },
  {
   "cell_type": "markdown",
   "metadata": {},
   "source": [
    "Ans: Comments are those parts of code which are not executed. They are meant for the information related to the code. We can broadly categorize comments as:\n",
    "-Single line comment: Starts with hash (#) symbol.\n",
    "-Multi line comment:Marked between triple quotes ('''  '''). These are meant for those sections which are written in multiple lines."
   ]
  },
  {
   "cell_type": "markdown",
   "metadata": {},
   "source": [
    "Q2. What are variables in Python? How do you declare and assign values to variables?"
   ]
  },
  {
   "cell_type": "markdown",
   "metadata": {},
   "source": [
    "Ans: Variable is a reserved memory allocation for storing values. The variables are not seperately declared in python. It is defined / declared by assigning values to the variable. The type of data assigned to variables fixes the type of variable. For assignment of values to variables ASSIGNMENT OPERATORS are used. Different types of assignment operators are:\n",
    "=, +=,-+,*=,/=,**=,%= etc."
   ]
  },
  {
   "cell_type": "markdown",
   "metadata": {},
   "source": [
    "Q3. How do you convert one data type to another in Python?"
   ]
  },
  {
   "cell_type": "markdown",
   "metadata": {},
   "source": [
    "Ans: One data type is converted to another by the process known as typecasting. For example\n",
    "a = float(5): Converts integer 5 to float 5.0\n",
    "a=str(5): Converts integer 5 to string 5\n",
    "a=bool(0): Converts integer 0 to boolean False\n",
    "a=complex(5): Converts integer 5 to complex 5 + 0j\n",
    "a=str(5+2j: Converts 5 + 2j complex to string 5+2j"
   ]
  },
  {
   "cell_type": "markdown",
   "metadata": {},
   "source": [
    "Q4. How do you write and execute a Python script from the command line?"
   ]
  },
  {
   "cell_type": "markdown",
   "metadata": {},
   "source": [
    "Ans: First step is to save file in .py format. After that command python followed by address of file (stored in .py format) is executed to run the file."
   ]
  },
  {
   "cell_type": "markdown",
   "metadata": {},
   "source": [
    "Q5. Given a list my_list = [1,2,3,4] , write the code to slice the list and obtain the sub-list [2, 3]."
   ]
  },
  {
   "cell_type": "code",
   "execution_count": 37,
   "metadata": {},
   "outputs": [
    {
     "name": "stdout",
     "output_type": "stream",
     "text": [
      "[2, 3]\n"
     ]
    }
   ],
   "source": [
    "#Ans\n",
    "my_list = [1,2,3,4]\n",
    "sub_list= my_list[1:3]\n",
    "print(sub_list)"
   ]
  },
  {
   "cell_type": "markdown",
   "metadata": {},
   "source": [
    "Q6. What is a complex number in mathematics, and how is it represented in Python?"
   ]
  },
  {
   "cell_type": "markdown",
   "metadata": {},
   "source": [
    "Ans: A complex number in mathematics consists of a real and imaginary part eg 2 + 4i\n",
    "In python the imaginary part is represented as j so in python the same number will be represented as 2 + 4j"
   ]
  },
  {
   "cell_type": "markdown",
   "metadata": {},
   "source": [
    "Q7. What is the correct way to declare a variable named age and assign the value 25 to it?"
   ]
  },
  {
   "cell_type": "code",
   "execution_count": 12,
   "metadata": {},
   "outputs": [
    {
     "name": "stdout",
     "output_type": "stream",
     "text": [
      "Enter the value of age25\n",
      "25\n",
      "25\n"
     ]
    }
   ],
   "source": [
    "#Ans\n",
    "age=int(input('Enter the value of age'))\n",
    "print(age)\n",
    "#In execution enter the value 25 in the terminal\n",
    "\n",
    "#ANOTHER WAY\n",
    "age =25\n",
    "print(age)"
   ]
  },
  {
   "cell_type": "markdown",
   "metadata": {},
   "source": [
    "Q8. Declare a variable named price and assign the value 9.99 to it. What data type does this variable\n",
    "belong to?"
   ]
  },
  {
   "cell_type": "code",
   "execution_count": 36,
   "metadata": {},
   "outputs": [
    {
     "name": "stdout",
     "output_type": "stream",
     "text": [
      "Enter the price9.99\n",
      "9.99\n",
      "9.99\n"
     ]
    }
   ],
   "source": [
    "#Ans\n",
    "price=float(input('Enter the price'))\n",
    "print(price)\n",
    "#In execution enter the value 9.99 in the terminal\n",
    "\n",
    "#ANOTHER WAY\n",
    "price =9.99\n",
    "print(price)\n",
    "\n",
    "\n",
    "#They type of variable is FLOAT"
   ]
  },
  {
   "cell_type": "markdown",
   "metadata": {},
   "source": [
    "Q9. Create a variable named name and assign your full name to it as a string. How would you print the\n",
    "value of this variable?"
   ]
  },
  {
   "cell_type": "code",
   "execution_count": 14,
   "metadata": {},
   "outputs": [
    {
     "name": "stdout",
     "output_type": "stream",
     "text": [
      "Enter the full nameMr Bond\n",
      "Mr Bond\n",
      "Mr Bond\n"
     ]
    }
   ],
   "source": [
    "#Ans\n",
    "#Ans\n",
    "name=input('Enter the full name')\n",
    "print(name)\n",
    "#In execution enter the full name in the terminal\n",
    "\n",
    "#ANOTHER WAY\n",
    "name ='Mr Bond'\n",
    "print(name)"
   ]
  },
  {
   "cell_type": "markdown",
   "metadata": {},
   "source": [
    "Q10. Given the string \"Hello, World!\", extract the substring \"World\"."
   ]
  },
  {
   "cell_type": "code",
   "execution_count": 16,
   "metadata": {},
   "outputs": [
    {
     "name": "stdout",
     "output_type": "stream",
     "text": [
      "World!\n"
     ]
    }
   ],
   "source": [
    "a= 'Hello, World!'\n",
    "print(a[7:])"
   ]
  },
  {
   "cell_type": "markdown",
   "metadata": {},
   "source": [
    "Q11. Create a variable named \"is_student\" and assign it a boolean value indicating whether you are\n",
    "currently a student or not."
   ]
  },
  {
   "cell_type": "code",
   "execution_count": 35,
   "metadata": {},
   "outputs": [
    {
     "name": "stdout",
     "output_type": "stream",
     "text": [
      "Are you a student 1 for True or 0 for False 0\n",
      "False\n"
     ]
    }
   ],
   "source": [
    "#Ans\n",
    "is_student=int(input('Are you a student 1 for True or 0 for False '))\n",
    "print(bool(is_student))"
   ]
  }
 ],
 "metadata": {
  "kernelspec": {
   "display_name": "Python 3",
   "language": "python",
   "name": "python3"
  },
  "language_info": {
   "codemirror_mode": {
    "name": "ipython",
    "version": 3
   },
   "file_extension": ".py",
   "mimetype": "text/x-python",
   "name": "python",
   "nbconvert_exporter": "python",
   "pygments_lexer": "ipython3",
   "version": "3.8.5"
  }
 },
 "nbformat": 4,
 "nbformat_minor": 4
}
