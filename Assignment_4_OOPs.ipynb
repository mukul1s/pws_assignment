{
 "cells": [
  {
   "cell_type": "markdown",
   "metadata": {},
   "source": [
    "Q1) Explain class and object with respect to Object-Oriented Programming. Give a suitable example."
   ]
  },
  {
   "cell_type": "markdown",
   "metadata": {},
   "source": [
    "#Ans: A class is a template for creating objects. It defines the properties and behavior of the objects that are created from it. An object is an instance of a class, created by calling the class like a function. The object contains the data and behavior defined by the class, as well as a unique identity.\n",
    "For e.g: Car is a class which defines attributes of a vehicle which is 4 wheeler with engine, tyres, gears etc. For a class of car let's say Maruti wagonr represents an object where it represents a particular instance of class car where company is maruti, model is wagonr.\n"
   ]
  },
  {
   "cell_type": "markdown",
   "metadata": {},
   "source": []
  },
  {
   "cell_type": "markdown",
   "metadata": {},
   "source": [
    "Q2) Name the four pillars of OOPs.\n",
    "#Ans: Four pillars of OOPs are:\n",
    "Inheritance, Polymorphism, Encapsulation, and Abstraction"
   ]
  },
  {
   "cell_type": "code",
   "execution_count": null,
   "metadata": {},
   "outputs": [],
   "source": []
  },
  {
   "cell_type": "markdown",
   "metadata": {},
   "source": [
    "Q3) Explain why the __init__() function is used. Give a suitable example.\n",
    "Ans: The init method in Python is a fundamental component of object-oriented programming, serving as the constructor that initializes object attributes upon instantiation. Its significance lies in facilitating the setup and configuration of objects, enhancing code readability, and supporting inheritance structures.\n",
    "For e.g like in above answer if a class is car and an object is to be defined then in such case while defining object let's say wagonr the attributes like company: maruti ,model: wagonr, fuel: petrol, year: 2024 etc are passed from object definition to class car using the constructor init."
   ]
  },
  {
   "cell_type": "code",
   "execution_count": null,
   "metadata": {},
   "outputs": [],
   "source": []
  },
  {
   "cell_type": "markdown",
   "metadata": {},
   "source": [
    "Q4) Why self is used in OOPs\n",
    "Ans): Objects are created from classes, and “self” is used to refer to the specific instance of the class being manipulated."
   ]
  },
  {
   "cell_type": "code",
   "execution_count": null,
   "metadata": {},
   "outputs": [],
   "source": []
  },
  {
   "cell_type": "markdown",
   "metadata": {},
   "source": [
    "Q5) What is inheritance? Give an example for each type of inheritance.\n",
    "Ans: nheritance is a method through which one class inherits the properties from its parent class. Inheritance is a feature in which one new class is derived from the existing ones. The new class derived is termed a derived class, and the current class is termed a Parent or base class.\n",
    "It is a way of representing real-world relationships between the two. Here's an example – car, bus, bike – all of these come under a broader category called Vehicle. That means they've inherited the properties of class vehicles, i.e., all are used for transportation.\n",
    "There are 5 types of inheritance:\n",
    "    Single Inheritance: Father ---> Son\n",
    "    Multiple Inheritance: Father , Mother ---> Son\n",
    "    Multilevel Inheritance: Grandfather ---> Father ---> Son\n",
    "    Hierarchical Inheritance: Company, employee ---> emp_details\n",
    "    Hybrid Inheritance: Grandfather, Grandmother, Company ---> Parents ---> Son & employee"
   ]
  },
  {
   "cell_type": "code",
   "execution_count": null,
   "metadata": {},
   "outputs": [],
   "source": []
  }
 ],
 "metadata": {
  "kernelspec": {
   "display_name": "Python 3",
   "language": "python",
   "name": "python3"
  },
  "language_info": {
   "codemirror_mode": {
    "name": "ipython",
    "version": 3
   },
   "file_extension": ".py",
   "mimetype": "text/x-python",
   "name": "python",
   "nbconvert_exporter": "python",
   "pygments_lexer": "ipython3",
   "version": "3.8.5"
  }
 },
 "nbformat": 4,
 "nbformat_minor": 4
}
