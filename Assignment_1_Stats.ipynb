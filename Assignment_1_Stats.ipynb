{
 "cells": [
  {
   "cell_type": "markdown",
   "metadata": {},
   "source": [
    "# ASSIGNMENT STATS 1"
   ]
  },
  {
   "cell_type": "markdown",
   "metadata": {},
   "source": [
    "Q1) What is Statistics?"
   ]
  },
  {
   "cell_type": "markdown",
   "metadata": {},
   "source": [
    "#Ans:\n",
    "Statistics is science of collecting, organizing and analyzing the data."
   ]
  },
  {
   "cell_type": "code",
   "execution_count": null,
   "metadata": {},
   "outputs": [],
   "source": []
  },
  {
   "cell_type": "markdown",
   "metadata": {},
   "source": [
    "Q2) Define the different types of statistics and give an example of when each type might be used."
   ]
  },
  {
   "cell_type": "markdown",
   "metadata": {},
   "source": [
    "#Ans:\n",
    "The two types of statistics are known as descriptive statistics, which describes the properties of sample and population data, and inferential statistics, which uses those properties to test hypotheses and draw conclusions. \n",
    "The descriptive statistics example is given as follows: Suppose the marks of students belonging to class A are {70, 85, 90, 65) and class B are {60, 40, 89, 96}. Then the average marks of each class can be given by the mean as 77.5 and 71.25.\n",
    "The inferential statistics example can be Collecting randomly select a sample of 11th graders in the state and collecting data on their SAT scores and other characteristics. Here inferential statistics can be used to make estimates and test hypotheses about the whole population of 11th graders in the state based on your sample data."
   ]
  },
  {
   "cell_type": "code",
   "execution_count": null,
   "metadata": {},
   "outputs": [],
   "source": []
  },
  {
   "cell_type": "markdown",
   "metadata": {},
   "source": [
    "Q3) What are the different types of data and how do they differ from each other? Provide an example of each type of data."
   ]
  },
  {
   "cell_type": "markdown",
   "metadata": {},
   "source": [
    "#Ans: \n",
    "Statistical data can be classified in a number of ways, but one of the most common ways is to divide it into qualitative and quantitative data. Qualitative data is non-numerical data that can be categorized into groups. For example, data on hair color would be qualitative data because this statistical data can be divided into groups such as \"blond,\" \"brown,\" and \"red.\"\n",
    "\n",
    "In contrast, quantitative data is numerical data that can be measured and compared. For example, data on height would be quantitative because it can be measured in inches or centimeters. "
   ]
  },
  {
   "cell_type": "code",
   "execution_count": null,
   "metadata": {},
   "outputs": [],
   "source": []
  },
  {
   "cell_type": "markdown",
   "metadata": {},
   "source": [
    "Q4) Categorise the following datasets with respect to quantitative and qualitative data types:\n",
    "\n",
    "(i) Grading in exam: A+, A, B+, B, C+, C, D, E\n",
    "(ii) Colour of mangoes: yellow, green, orange, red\n",
    "(iii) Height data of a class: [178.9, 179, 179.5, 176, 177.2, 178.3, 175.8,...]\n",
    "(iv) Number of mangoes exported by a farm: [500, 600, 478, 672, …]"
   ]
  },
  {
   "cell_type": "markdown",
   "metadata": {},
   "source": [
    "#Ans:\n",
    "(i) Grading in exam: A+, A, B+, B, C+, C, D, E -> Qualitative Data\n",
    "(ii) Colour of mangoes: yellow, green, orange, red -> Qualitative Data\n",
    "(iii) Height data of a class: [178.9, 179, 179.5, 176, 177.2, 178.3, 175.8,...] -> Quantitative Data\n",
    "(iv) Number of mangoes exported by a farm: [500, 600, 478, 672, …] -> Quantitative Data"
   ]
  },
  {
   "cell_type": "markdown",
   "metadata": {},
   "source": []
  },
  {
   "cell_type": "markdown",
   "metadata": {},
   "source": [
    "Q5) Explain the concept of levels of measurement and give an example of a variable for each level"
   ]
  },
  {
   "cell_type": "markdown",
   "metadata": {},
   "source": [
    "#Ans:\n",
    "There are 4 levels of measurement:\n",
    "    Nominal: the data can only be categorized e.g. City of birth, Gender,Ethnicity, Car brands and Marital status\n",
    "    Ordinal: the data can be categorized and ranked e.g Top 5 Olympic medallists,Language ability (e.g., beginner, intermediate, fluent) and Likert-type questions  (e.g., very dissatisfied to very satisfied) \n",
    "    Interval: the data can be categorized, ranked, and evenly spaced e.g. Test scores, Personality inventories and Temperature in Fahrenheit or Celsius\n",
    "    Ratio: the data can be categorized, ranked, evenly spaced, and has a natural zero. e.g. Height, Age and Weigh\n"
   ]
  },
  {
   "cell_type": "code",
   "execution_count": null,
   "metadata": {},
   "outputs": [],
   "source": []
  },
  {
   "cell_type": "markdown",
   "metadata": {},
   "source": [
    "Q6) Why is it important to understand the level of measurement when analyzing data? Provide an example to illustrate your answer."
   ]
  },
  {
   "attachments": {},
   "cell_type": "markdown",
   "metadata": {},
   "source": [
    "#Ans\n",
    "The level of measurement determines the type of statistical analysis that can be conducted, and, therefore, the type of conclusions that can be drawn from the research.\n",
    "Example of a variable at 2 levels of measurement\n",
    "You can measure the variable of income at an ordinal or ratio level.\n",
    "\n",
    "Ordinal level: You create brackets of income ranges: $0–$19,999, $20,000–$39,999, and $40,000–$59,999. You ask participants to select the bracket that represents their annual income. The brackets are coded with numbers from 1–3.\n",
    "    Ratio level: You collect data on the exact annual incomes of your participants.\n",
    "   \n",
    "Participant \tIncome (ordinal level) \tIncome (ratio level)\n",
    "A            \tBracket 1 \t            $12,550\n",
    "B \t            Bracket 2            \t$39,700\n",
    "C \t            Bracket 3            \t$40,300\n",
    "\n",
    "At a ratio level, you can see that the difference between A and B’s incomes is far greater than the difference between B and C’s incomes.\n",
    "\n",
    "At an ordinal level, however, you only know the income bracket for each participant, not their exact income. Since you cannot say exactly how much each income differs from the others in your data set, you can only order the income levels and group the participants.\n"
   ]
  },
  {
   "cell_type": "code",
   "execution_count": null,
   "metadata": {},
   "outputs": [],
   "source": []
  },
  {
   "cell_type": "markdown",
   "metadata": {},
   "source": [
    "Q7) How nominal data type is different from ordinal data type."
   ]
  },
  {
   "cell_type": "markdown",
   "metadata": {},
   "source": [
    "#Ans:\n",
    "The main differences between Nominal Data and Ordinal Data are:\n",
    "    While Nominal Data is classified without any intrinsic ordering or rank, Ordinal Data has some predetermined or natural order. \n",
    "    Nominal data is qualitative or categorical data, while Ordinal data is considered “in-between” qualitative and quantitative data.\n",
    "    Nominal data do not provide any quantitative value, and you cannot perform numeric operations with them or compare them with one another. However, Ordinal data provide sequence, and it is possible to assign numbers to the data. No numeric operations can be performed. But ordinal data makes it possible to compare one item with another in terms of ranking.  \n",
    "    Example of Nominal Data – Eye color, Gender; Example of Ordinal data – Customer Feedback, Economic Status\n"
   ]
  },
  {
   "cell_type": "code",
   "execution_count": null,
   "metadata": {},
   "outputs": [],
   "source": []
  },
  {
   "cell_type": "markdown",
   "metadata": {},
   "source": [
    "Q8) Which type of plot can be used to display data in terms of range?"
   ]
  },
  {
   "cell_type": "markdown",
   "metadata": {},
   "source": [
    "#Ans\n",
    "Histogram. If the groups depicted in a bar chart are actually continuous numeric ranges, we can push the bars together to generate a histogram. Bar lengths in histograms typically correspond to counts of data points, and their patterns demonstrate the distribution of variables in your data."
   ]
  },
  {
   "cell_type": "code",
   "execution_count": null,
   "metadata": {},
   "outputs": [],
   "source": []
  },
  {
   "cell_type": "markdown",
   "metadata": {},
   "source": [
    "Q9) Describe the difference between descriptive and inferential statistics. Give an example of each type of statistics and explain how they are used.\n"
   ]
  },
  {
   "cell_type": "markdown",
   "metadata": {},
   "source": [
    "#Ans; \n",
    "Descriptive statistics:\n",
    "    Describe the features of populations and/or samples\n",
    "    Organize and present data in a purely factual way\n",
    "    Present final results visually, using tables, charts, or graphs\n",
    "    Draw conclusions based on known data\n",
    "    Use measures like central tendency, distribution, and variance\n",
    "\n",
    "Inferential statistics:\n",
    "    Use samples to make generalizations about larger populations\n",
    "    Help us to make estimates and predict future outcomes\n",
    "    Present final results in the form of probabilities\n",
    "    Draw conclusions that go beyond the available data\n",
    "    Use techniques like hypothesis testing, confidence intervals, and regression and correlation analysis\n",
    "    \n",
    "    \n",
    " In a class, the collection of marks obtained by 50 students is the description of data. Now when we take out the mean of the data, the result is the average of marks of 50 students. If the average mark obtained by 50 students is 88 out of 100, then we can reach to a conclusion or give a judgment on the basis of the result. \n",
    " In above example if the results are considered only for the class then this comes under Descriptive Analysis. Further if this data is used to draw conclusions for the results of complete college (population) then it will be a case of inferential statistics.\n"
   ]
  },
  {
   "cell_type": "code",
   "execution_count": null,
   "metadata": {},
   "outputs": [],
   "source": []
  },
  {
   "cell_type": "markdown",
   "metadata": {},
   "source": [
    "Q10) What are some common measures of central tendency and variability used in statistics? Explain how each measure can be used to describe a dataset."
   ]
  },
  {
   "cell_type": "markdown",
   "metadata": {},
   "source": [
    "#Ans:\n",
    "The 3 most common measures of central tendency are the mean, median and mode. The mode is the most frequent value. The median is the middle number in an ordered data set. The mean is the sum of all values divided by the total number of values.\n",
    "Type of Variable\t         Best measure of central tendency\n",
    "Nominal\t                     Mode\n",
    "Ordinal\t                     Median\n",
    "Interval/Ratio (not skewed)\t Mean\n",
    "Interval/Ratio (skewed)\t     Median"
   ]
  }
 ],
 "metadata": {
  "kernelspec": {
   "display_name": "Python 3",
   "language": "python",
   "name": "python3"
  },
  "language_info": {
   "codemirror_mode": {
    "name": "ipython",
    "version": 3
   },
   "file_extension": ".py",
   "mimetype": "text/x-python",
   "name": "python",
   "nbconvert_exporter": "python",
   "pygments_lexer": "ipython3",
   "version": "3.8.5"
  }
 },
 "nbformat": 4,
 "nbformat_minor": 4
}
