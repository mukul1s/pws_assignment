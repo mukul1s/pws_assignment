{
 "cells": [
  {
   "cell_type": "markdown",
   "metadata": {},
   "source": [
    "Q1. Which keyword is used to create a function? Create a function to return a list of odd numbers in the\n",
    "range of 1 to 25."
   ]
  },
  {
   "cell_type": "code",
   "execution_count": null,
   "metadata": {},
   "outputs": [],
   "source": [
    "# def is the keyword used to create a function\n",
    "\n",
    "def fn1():\n",
    "    for i in range(1,26):\n",
    "        if i % 2 != 0:\n",
    "            print(i)\n",
    "\n",
    "        \n",
    "fn1()"
   ]
  },
  {
   "cell_type": "markdown",
   "metadata": {},
   "source": [
    "Q2. Why *args and **kwargs is used in some functions? Create a function each for *args and **kwargs to\n",
    "demonstrate their use."
   ]
  },
  {
   "cell_type": "code",
   "execution_count": null,
   "metadata": {},
   "outputs": [],
   "source": [
    "# *args and **kargs are used when the number of inputs to function are not fixed and can be flexible (in terms of\n",
    "#number of inputs). * args is used when inputs are other than key:value pair. For key:value pair, **kwargs is used.\n",
    "#-----------------------------------------------------------------\n",
    "def fn2a(*args):\n",
    "    return args\n",
    "\n",
    "fn2a(1,'a',2.6,1+2j, [1,2,3],('a','b'),{1,2},{1:'x',2:'y'})\n",
    "\n",
    "#-----------------------------------------------------------------\n",
    "\n"
   ]
  },
  {
   "cell_type": "code",
   "execution_count": null,
   "metadata": {},
   "outputs": [],
   "source": [
    "def fn2b(**args):\n",
    "    return args\n",
    "\n",
    "fn2b(a=1,b=[11,22,33],c=(111,222,'aaa','bbb'))"
   ]
  },
  {
   "cell_type": "markdown",
   "metadata": {},
   "source": [
    "Q3. What is an iterator in python? Name the method used to initialise the iterator object and the method\n",
    "used for iteration. Use these methods to print the first five elements of the given list [2, 4, 6, 8, 10, 12, 14, 16,\n",
    "18, 20]."
   ]
  },
  {
   "cell_type": "code",
   "execution_count": null,
   "metadata": {},
   "outputs": [],
   "source": [
    "# An object which allows to iterate over collection of data such as list, tuple, dictionary is known as iterator.\n",
    "# It can be initialized by declaring it as some value at the start of iteration, followed by gradual changes per \n",
    "#iteration, as the loop continues\n",
    "\n",
    "l= [2,4,6,8,10,12,14,16,18,20]\n",
    "\n",
    "def fn3(x,n):\n",
    "    for i in range(n):\n",
    "        print(x[i])\n",
    "    return\n",
    "\n",
    "fn3(l,5)"
   ]
  },
  {
   "cell_type": "markdown",
   "metadata": {},
   "source": [
    "Q4. What is a generator function in python? Why yield keyword is used? Give an example of a generator\n",
    "function."
   ]
  },
  {
   "cell_type": "code",
   "execution_count": 34,
   "metadata": {},
   "outputs": [
    {
     "name": "stdout",
     "output_type": "stream",
     "text": [
      "[1, 3, 5, 7, 9, 11, 13, 15, 17, 19]\n"
     ]
    }
   ],
   "source": [
    "# Generator function is used to return value while the loop is running in the function. It does not store value of\n",
    "# parameters, for the loop to finish. Rather it gives the value parallely to the execution of loop.\n",
    "# Yield keyword is for the purpose of returning the value while execution of loop\n",
    "def fn4(n):\n",
    "\n",
    "   for i in range(n):\n",
    "\n",
    "       if(i%2!=0):\n",
    "\n",
    "           yield i \n",
    "\n",
    "odd_numbers = fn4(20)\n",
    "\n",
    "print(list(odd_numbers))"
   ]
  },
  {
   "cell_type": "markdown",
   "metadata": {},
   "source": [
    "Q5. Create a generator function for prime numbers less than 1000. Use the next() method to print the\n",
    "first 20 prime numbers."
   ]
  },
  {
   "cell_type": "code",
   "execution_count": null,
   "metadata": {},
   "outputs": [],
   "source": [
    "def fn5(n):\n",
    "    l=[1,2]\n",
    "    for i in range(1,n):\n",
    "        count = 0\n",
    "        for j in range(2,i):\n",
    "            if i% j ==0:\n",
    "                count=0\n",
    "                break\n",
    "            else:\n",
    "                count = 1\n",
    "        if count ==1:\n",
    "            l.append(i)\n",
    "            yield i\n",
    "\n",
    "   \n",
    "l1=fn5(1000)\n",
    "y=iter(l1)\n",
    "for k in range(20):\n",
    "    print(next(y))\n"
   ]
  },
  {
   "cell_type": "code",
   "execution_count": null,
   "metadata": {},
   "outputs": [],
   "source": []
  }
 ],
 "metadata": {
  "kernelspec": {
   "display_name": "Python 3",
   "language": "python",
   "name": "python3"
  },
  "language_info": {
   "codemirror_mode": {
    "name": "ipython",
    "version": 3
   },
   "file_extension": ".py",
   "mimetype": "text/x-python",
   "name": "python",
   "nbconvert_exporter": "python",
   "pygments_lexer": "ipython3",
   "version": "3.8.5"
  }
 },
 "nbformat": 4,
 "nbformat_minor": 4
}
