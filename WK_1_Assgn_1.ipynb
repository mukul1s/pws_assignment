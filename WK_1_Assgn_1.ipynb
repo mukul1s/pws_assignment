{
 "cells": [
  {
   "cell_type": "markdown",
   "metadata": {},
   "source": [
    "Q1. Create one variable containing following type of data:\n",
    "\n",
    "(i) string\n",
    "\n",
    "(ii) list\n",
    "\n",
    "(iii) float\n",
    "\n",
    "(iv) tuple"
   ]
  },
  {
   "cell_type": "code",
   "execution_count": 4,
   "metadata": {},
   "outputs": [
    {
     "name": "stdout",
     "output_type": "stream",
     "text": [
      "(i) is Assignment\n",
      "(ii) is [1, 'st', 'assignment', 'consists', 'of', [1, 2, 3, 4, 5], 'questions']\n",
      "(iii) is 2.0\n",
      "(iv) is ('1st', 'assignment', 'is', 'here', 1)\n"
     ]
    }
   ],
   "source": [
    "#Answer 1\n",
    "a='Assignment'\n",
    "b=[1,'st','assignment','consists','of',[1,2,3,4,5],'questions']\n",
    "c=2.0\n",
    "d=('1st','assignment','is','here',1)\n",
    "print('(i) is',a)\n",
    "print('(ii) is',b)\n",
    "print('(iii) is',c)\n",
    "print('(iv) is',d)"
   ]
  },
  {
   "cell_type": "markdown",
   "metadata": {},
   "source": [
    "Q2. Given are some following variables containing data:\n",
    "\n",
    "(i) var1 = ‘ ‘\n",
    "\n",
    "(ii) var2 = ‘[ DS , ML , Python]’\n",
    "\n",
    "(iii) var3 = [ ‘DS’ , ’ML’ , ‘Python’ ]\n",
    "\n",
    "(iv) var4 = 1.\n",
    "\n",
    "\n",
    "What will be the data type of the above given variable."
   ]
  },
  {
   "cell_type": "code",
   "execution_count": 17,
   "metadata": {},
   "outputs": [
    {
     "name": "stdout",
     "output_type": "stream",
     "text": [
      " var1 is <class 'str'> \n",
      " var2 is <class 'str'> \n",
      " var3 is <class 'list'> \n",
      " var4 is <class 'float'>\n"
     ]
    }
   ],
   "source": [
    "#Answer 2\n",
    "var1 = ''\n",
    "\n",
    "var2 = '[ DS , ML , Python]'\n",
    "\n",
    "var3 = [ 'DS' , 'ML' , 'Python' ]\n",
    "\n",
    "var4 = 1.\n",
    "\n",
    "print(' var1 is',type(var1),'\\n var2 is',type(var2),'\\n var3 is',type(var3),'\\n var4 is',type(var4))"
   ]
  },
  {
   "cell_type": "markdown",
   "metadata": {},
   "source": [
    "Q3. Explain the use of the following operators using an example:\n",
    "\n",
    "(i) /\n",
    "\n",
    "(ii) %\n",
    "(iii) //\n",
    "\n",
    "(iv) **"
   ]
  },
  {
   "cell_type": "code",
   "execution_count": null,
   "metadata": {},
   "outputs": [],
   "source": [
    "#Answer 3\n",
    "''' \n",
    "/ is used for division\n",
    "% is used for remainder\n",
    "// is used for floor division\n",
    "** is used for power of, also know as exponent in mathematics\n",
    "'''"
   ]
  },
  {
   "cell_type": "markdown",
   "metadata": {},
   "source": [
    "Q4. Create a list of length 10 of your choice containing multiple types of data. Using for loop print the\n",
    "element and its data type."
   ]
  },
  {
   "cell_type": "code",
   "execution_count": 21,
   "metadata": {},
   "outputs": [
    {
     "name": "stdout",
     "output_type": "stream",
     "text": [
      "\n",
      "Element is  1 and type of element is  <class 'int'>\n",
      "\n",
      "Element is  2.0 and type of element is  <class 'float'>\n",
      "\n",
      "Element is  (2+1j) and type of element is  <class 'complex'>\n",
      "\n",
      "Element is  assignment and type of element is  <class 'str'>\n",
      "\n",
      "Element is  ['l', 'i', 's', 't', 1, 2.0] and type of element is  <class 'list'>\n"
     ]
    }
   ],
   "source": [
    "#Answer 4\n",
    "var_list=[1,2.0,2+1j,'assignment',['l','i','s','t',1,2.0]]\n",
    "\n",
    "for i in var_list:\n",
    "    print('\\nElement is ',i,'and type of element is ',type(i))"
   ]
  },
  {
   "cell_type": "markdown",
   "metadata": {},
   "source": [
    "Q5. Using a while loop, verify if the number A is purely divisible by number B and if so then how many\n",
    "times it can be divisible."
   ]
  },
  {
   "cell_type": "code",
   "execution_count": 25,
   "metadata": {},
   "outputs": [
    {
     "name": "stdout",
     "output_type": "stream",
     "text": [
      "Enter numerator\n",
      "9\n",
      "Enter denominator\n",
      "2\n",
      "a is not divisible by b\n"
     ]
    }
   ],
   "source": [
    "#Answer 5\n",
    "print('Enter numerator')\n",
    "a=int(input())\n",
    "print('Enter denominator')\n",
    "b=int(input())\n",
    "\n",
    "if a%b==0:\n",
    "    print('a is divisible by b and number of times divisible is ',a//b)\n",
    "else:\n",
    "    print('a is not divisible by b')"
   ]
  },
  {
   "cell_type": "markdown",
   "metadata": {},
   "source": [
    "Q6. Create a list containing 25 int type data. Using for loop and if-else condition print if the element is\n",
    "divisible by 3 or not."
   ]
  },
  {
   "cell_type": "code",
   "execution_count": 26,
   "metadata": {},
   "outputs": [
    {
     "name": "stdout",
     "output_type": "stream",
     "text": [
      "\n",
      " 3  is divisible by 3 \n",
      "\n",
      " 6  is divisible by 3 \n",
      "\n",
      " 9  is divisible by 3 \n",
      "\n",
      " 12  is divisible by 3 \n",
      "\n",
      " 15  is divisible by 3 \n",
      "\n",
      " 18  is divisible by 3 \n",
      "\n",
      " 21  is divisible by 3 \n",
      "\n",
      " 24  is divisible by 3 \n"
     ]
    }
   ],
   "source": [
    "#Answer 6\n",
    "var_list = range(1,26)\n",
    "for i in var_list:\n",
    "    if i%3 ==0:\n",
    "        print('\\n',i,' is divisible by 3 ')\n",
    "    else:\n",
    "        continue"
   ]
  },
  {
   "cell_type": "markdown",
   "metadata": {},
   "source": [
    "Q7. What do you understand about mutable and immutable data types? Give examples for both showing\n",
    "this property."
   ]
  },
  {
   "cell_type": "code",
   "execution_count": null,
   "metadata": {},
   "outputs": [],
   "source": [
    "'''\n",
    "Answer 7\n",
    "Mutable objects are those whose elements can be changed or edited for example a list, element of list can be changed.\n",
    "\n",
    "Immutable objects are those whose elements cannot be changed for example a string. Any particular element (index) \n",
    "of cannot be changed.\n",
    "'''"
   ]
  },
  {
   "cell_type": "code",
   "execution_count": null,
   "metadata": {},
   "outputs": [],
   "source": []
  }
 ],
 "metadata": {
  "kernelspec": {
   "display_name": "Python 3",
   "language": "python",
   "name": "python3"
  },
  "language_info": {
   "codemirror_mode": {
    "name": "ipython",
    "version": 3
   },
   "file_extension": ".py",
   "mimetype": "text/x-python",
   "name": "python",
   "nbconvert_exporter": "python",
   "pygments_lexer": "ipython3",
   "version": "3.8.5"
  }
 },
 "nbformat": 4,
 "nbformat_minor": 4
}
